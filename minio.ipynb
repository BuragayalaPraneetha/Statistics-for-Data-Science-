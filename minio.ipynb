{
 "cells": [
  {
   "cell_type": "code",
   "execution_count": 29,
   "metadata": {},
   "outputs": [
    {
     "name": "stdout",
     "output_type": "stream",
     "text": [
      "Error: CSRF token input element not found.\n"
     ]
    }
   ],
   "source": [
    "import requests\n",
    "from bs4 import BeautifulSoup\n",
    "\n",
    "# MinIO console login URL\n",
    "login_url = ''\n",
    "\n",
    "# Login credentials\n",
    "username = ''\n",
    "password = ''\n",
    "\n",
    "# Create a session\n",
    "session = requests.Session()\n",
    "\n",
    "# Perform login\n",
    "try:\n",
    "    # Send a GET request to retrieve the login page\n",
    "    response = session.get(login_url)\n",
    "    response.raise_for_status()\n",
    "\n",
    "    # Parse the HTML response to extract CSRF token\n",
    "    soup = BeautifulSoup(response.text, 'html.parser')\n",
    "    csrf_input = soup.find('input', {'name': '_csrf'})\n",
    "\n",
    "    if csrf_input is not None:\n",
    "        csrf_token = csrf_input.get('value')\n",
    "    else:\n",
    "        raise ValueError(\"CSRF token input element not found.\")\n",
    "\n",
    "    # Prepare login data\n",
    "    login_data = {\n",
    "        '_csrf': csrf_token,\n",
    "        'username': username,\n",
    "        'password': password\n",
    "    }\n",
    "\n",
    "    # Send a POST request to submit login credentials\n",
    "    response = session.post(login_url, data=login_data)\n",
    "    response.raise_for_status()\n",
    "\n",
    "    # Check if login was successful\n",
    "    if 'logout' in response.url:\n",
    "        print(\"Login successful!\")\n",
    "\n",
    "        # Now, you can access the dashboard or buckets page and parse the HTML to extract bucket names\n",
    "        # Example: \n",
    "        # buckets_page_url = 'https://mconsole.kashi-ka.ai/buckets'\n",
    "        # buckets_response = session.get(buckets_page_url)\n",
    "        # buckets_soup = BeautifulSoup(buckets_response.text, 'html.parser')\n",
    "        # Extract and print bucket names\n",
    "    else:\n",
    "        print(\"Login failed. Check your credentials.\")\n",
    "\n",
    "except requests.RequestException as e:\n",
    "    print(\"An error occurred:\", e)\n",
    "except ValueError as ve:\n",
    "    print(\"Error:\", ve)\n"
   ]
  },
  {
   "cell_type": "code",
   "execution_count": null,
   "metadata": {},
   "outputs": [],
   "source": []
  }
 ],
 "metadata": {
  "kernelspec": {
   "display_name": "Python 3",
   "language": "python",
   "name": "python3"
  },
  "language_info": {
   "codemirror_mode": {
    "name": "ipython",
    "version": 3
   },
   "file_extension": ".py",
   "mimetype": "text/x-python",
   "name": "python",
   "nbconvert_exporter": "python",
   "pygments_lexer": "ipython3",
   "version": "3.12.2"
  }
 },
 "nbformat": 4,
 "nbformat_minor": 2
}
