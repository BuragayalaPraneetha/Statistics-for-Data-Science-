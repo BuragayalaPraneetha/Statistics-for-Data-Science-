{
 "cells": [
  {
   "cell_type": "code",
   "execution_count": 4,
   "metadata": {},
   "outputs": [
    {
     "name": "stdout",
     "output_type": "stream",
     "text": [
      "Successfully connected to Trino!\n",
      "sales\n",
      "sales_test\n"
     ]
    }
   ],
   "source": [
    "\n",
    "from trino import dbapi\n",
    " \n",
    "# Connection parameters\n",
    "\n",
    "host = 'trino.kashi-ka.ai'\n",
    "port = 443  # Default Trino port for HTTPS\n",
    "user = 'admin'\n",
    "catalog = 'hive'\n",
    "schema = 'kashika_schema'\n",
    "http_scheme = 'https'  # Since it's HTTPS\n",
    " \n",
    "try:\n",
    "    # Establish connection\n",
    "    conn = dbapi.connect(\n",
    "        host=host,\n",
    "        port=port,\n",
    "        user=user,\n",
    "        catalog=catalog,\n",
    "        schema=schema,\n",
    "        http_scheme=http_scheme\n",
    "    ) \n",
    "    print(\"Successfully connected to Trino!\")\n",
    "     # Create cursor\n",
    "    cursor = conn.cursor() \n",
    "    # Execute query to show tables\n",
    "    query = f'SHOW TABLES FROM {schema}'\n",
    "    cursor.execute(query) \n",
    "    # Fetch results\n",
    "    tables = cursor.fetchall() \n",
    "    # Print tables\n",
    "    for table in tables:\n",
    "        print(table[0]) \n",
    "except Exception as e:\n",
    "    print(f\"Failed to connect to Trino: {e}\") \n",
    "finally:\n",
    "    # Close cursor and connection\n",
    "    cursor.close()\n",
    "    conn.close()"
   ]
  },
  {
   "cell_type": "code",
   "execution_count": 10,
   "metadata": {},
   "outputs": [
    {
     "name": "stdout",
     "output_type": "stream",
     "text": [
      "Successfully connected to Trino!\n",
      "Failed to execute query: TrinoUserError(type=USER_ERROR, name=TABLE_NOT_FOUND, message=\"line 1:15: Table 'hive.kashika_schema.harsha' does not exist\", query_id=20240329_103400_00265_vwtqn)\n"
     ]
    }
   ],
   "source": [
    "from trino import dbapi\n",
    " \n",
    "# Connection parameters\n",
    "host = 'trino.kashi-ka.ai'\n",
    "port = 443  # Default Trino port for HTTPS\n",
    "user = 'admin'\n",
    "catalog = 'hive'\n",
    "schema = 'kashika_schema'\n",
    "http_scheme = 'https'  # Since it's HTTPS\n",
    " \n",
    "try:\n",
    "    # Establish connection\n",
    "    conn = dbapi.connect(\n",
    "        host=host,\n",
    "        port=port,\n",
    "        user=user,\n",
    "        catalog=catalog,\n",
    "        schema=schema,\n",
    "        http_scheme=http_scheme\n",
    "    )\n",
    " \n",
    "    print(\"Successfully connected to Trino!\")\n",
    " \n",
    "    # Create cursor\n",
    "    cursor = conn.cursor() \n",
    "    # Execute query to select from the sales table\n",
    "    query = 'SELECT * FROM sales_test'\n",
    "    cursor.execute(query) \n",
    "    # Fetch results\n",
    "    results = cursor.fetchall() \n",
    "    # Print results\n",
    "    for row in results:\n",
    "        print(row) \n",
    "except Exception as e:\n",
    "    print(f\"Failed to execute query: {e}\") \n",
    "finally:\n",
    "    # Close cursor and connection\n",
    "    cursor.close()\n",
    "    conn.close()\n"
   ]
  },
  {
   "cell_type": "code",
   "execution_count": 8,
   "metadata": {},
   "outputs": [
    {
     "name": "stdout",
     "output_type": "stream",
     "text": [
      "Successfully connected to Trino!\n",
      "Failed to execute query: TrinoUserError(type=USER_ERROR, name=TABLE_NOT_FOUND, message=\"line 1:15: Table 'hive.kashika_schema.harsha' does not exist\", query_id=20240329_103219_00262_vwtqn)\n"
     ]
    }
   ],
   "source": [
    "from trino import dbapi\n",
    "from tabulate import tabulate\n",
    " \n",
    "# Connection parameters\n",
    "host = 'trino.kashi-ka.ai'\n",
    "port = 443  # Default Trino port for HTTPS\n",
    "user = 'admin'\n",
    "catalog = 'hive'\n",
    "schema = 'kashika_schema'\n",
    "http_scheme = 'https'  # Since it's HTTPS\n",
    " \n",
    "try:\n",
    "    # Establish connection\n",
    "    conn = dbapi.connect(\n",
    "        host=host,\n",
    "        port=port,\n",
    "        user=user,\n",
    "        catalog=catalog,\n",
    "        schema=schema,\n",
    "        http_scheme=http_scheme\n",
    "    )\n",
    " \n",
    "    print(\"Successfully connected to Trino!\")\n",
    " \n",
    "    # Create cursor\n",
    "    cursor = conn.cursor()\n",
    " \n",
    "    # Execute query to select from the sales table\n",
    "    query = 'SELECT * FROM harsha'\n",
    "    cursor.execute(query)\n",
    " \n",
    "    # Fetch results\n",
    "    results = cursor.fetchall()\n",
    " \n",
    "    # Print results in table format\n",
    " \n",
    "    print(tabulate(results, headers=headers))\n",
    " \n",
    "except Exception as e:\n",
    "    print(f\"Failed to execute query: {e}\")\n",
    " \n",
    "finally:\n",
    "    # Close cursor and connection\n",
    "    cursor.close()\n",
    "    conn.close()\n"
   ]
  },
  {
   "cell_type": "code",
   "execution_count": null,
   "metadata": {},
   "outputs": [],
   "source": []
  }
 ],
 "metadata": {
  "kernelspec": {
   "display_name": "Python 3",
   "language": "python",
   "name": "python3"
  },
  "language_info": {
   "codemirror_mode": {
    "name": "ipython",
    "version": 3
   },
   "file_extension": ".py",
   "mimetype": "text/x-python",
   "name": "python",
   "nbconvert_exporter": "python",
   "pygments_lexer": "ipython3",
   "version": "3.12.2"
  }
 },
 "nbformat": 4,
 "nbformat_minor": 2
}
